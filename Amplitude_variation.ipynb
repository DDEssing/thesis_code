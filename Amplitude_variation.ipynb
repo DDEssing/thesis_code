{
 "cells": [
  {
   "cell_type": "code",
   "execution_count": 1,
   "metadata": {},
   "outputs": [],
   "source": [
    "import numpy as np\n",
    "from obspy import read\n",
    "from obspy.io.xseed import Parser\n",
    "from scipy import signal\n",
    "import obspy\n",
    "import matplotlib.pyplot as plt\n",
    "from IPython.display import Image\n",
    "from func import def_master"
   ]
  },
  {
   "cell_type": "markdown",
   "metadata": {},
   "source": [
    "## Loading Data and decimate it to 25Hz by factor 2"
   ]
  },
  {
   "cell_type": "code",
   "execution_count": 2,
   "metadata": {},
   "outputs": [
    {
     "name": "stderr",
     "output_type": "stream",
     "text": [
      "/home/zmaw/u300967/.conda/envs/vgseis_2018/lib/python3.6/site-packages/obspy/signal/detrend.py:31: FutureWarning: Conversion of the second argument of issubdtype from `float` to `np.floating` is deprecated. In future, it will be treated as `np.float64 == np.dtype(float).type`.\n",
      "  if not np.issubdtype(data.dtype, float):\n"
     ]
    }
   ],
   "source": [
    "### Loading in Data for 3 days to test frequency and amplitude development over several days\n",
    "\n",
    "station = 'KNR01'\n",
    "component = 'BH1'\n",
    "year = 2016\n",
    "day = 321\n",
    "day1 = day + 1\n",
    "day2 = day + 2\n",
    "\n",
    "day = str(day)\n",
    "day1 = str(day1)\n",
    "day2 = str(day2)\n",
    "year = str(year)\n",
    "\n",
    "\n",
    "component = 'BHZ'\n",
    "\n",
    "\n",
    "#st = read('../../TEST_DATA/DATA/KNR01/BHZ.D/1B.KNR01..BHZ.D.2016.337')\n",
    "st_BHZ = read('/data/cen/u254/Essing/AWI/KNIPA_NEW/' + year + '/1B/' + station + '/' + component + '.D/1B.' + station + '..' + component + '.D.' + year + '.' + day)\n",
    "#parser01 = Parser('../../TEST_DATA/Resp/RESP.1B.KNR01..BHZ')\n",
    "parser01_BHZ = Parser('/data/cen/u254/Essing/AWI/CAL/RESP.1B.' + station + '..' + component)\n",
    "st_BHZ = st_BHZ.decimate(factor=2)\n",
    "st_BHZ_simu = st_BHZ.copy()\n",
    "st_BHZ_simu.simulate(seedresp={'filename': parser01_BHZ, 'units': \"ACC\"})\n",
    "st_BHZ_simu_filt = st_BHZ_simu.copy()\n",
    "st_BHZ_simu_filt = st_BHZ_simu_filt.filter('bandpass',freqmin=.1, freqmax=10)\n",
    "\n",
    "\n",
    "#st = read('../../TEST_DATA/DATA/KNR01/BHZ.D/1B.KNR01..BHZ.D.2016.337')\n",
    "st_BHZ_1 = read('/data/cen/u254/Essing/AWI/KNIPA_NEW/' + year + '/1B/' + station + '/' + component + '.D/1B.' + station + '..' + component + '.D.' + year + '.' + day1)\n",
    "#parser01 = Parser('../../TEST_DATA/Resp/RESP.1B.KNR01..BHZ')\n",
    "#parser01_BHZ = Parser('/data/cen/u254/Essing/AWI/CAL/RESP.1B.' + station + '..' + component)\n",
    "st_BHZ_1 = st_BHZ_1.decimate(factor=2)\n",
    "st_BHZ_simu_1 = st_BHZ_1.copy()\n",
    "st_BHZ_simu_1.simulate(seedresp={'filename': parser01_BHZ, 'units': \"ACC\"})\n",
    "st_BHZ_simu_filt_1 = st_BHZ_simu_1.copy()\n",
    "st_BHZ_simu_filt_1 = st_BHZ_simu_filt_1.filter('bandpass',freqmin=.1, freqmax=10)\n",
    "\n",
    "\n",
    "#st = read('../../TEST_DATA/DATA/KNR01/BHZ.D/1B.KNR01..BHZ.D.2016.337')\n",
    "st_BHZ_2 = read('/data/cen/u254/Essing/AWI/KNIPA_NEW/' + year + '/1B/' + station + '/' + component + '.D/1B.' + station + '..' + component + '.D.' + year + '.' + day2)\n",
    "#parser01 = Parser('../../TEST_DATA/Resp/RESP.1B.KNR01..BHZ')\n",
    "#parser01_BHZ = Parser('/data/cen/u254/Essing/AWI/CAL/RESP.1B.' + station + '..' + component)\n",
    "st_BHZ_2 = st_BHZ_2.decimate(factor=2)\n",
    "st_BHZ_simu_2 = st_BHZ_2.copy()\n",
    "st_BHZ_simu_2.simulate(seedresp={'filename': parser01_BHZ, 'units': \"ACC\"})\n",
    "st_BHZ_simu_filt_2 = st_BHZ_simu_2.copy()\n",
    "st_BHZ_simu_filt_2 = st_BHZ_simu_filt_2.filter('bandpass',freqmin=.1, freqmax=10)\n",
    "\n",
    "\n",
    "fs = int(st_BHZ_simu_filt[0].stats.sampling_rate)\n",
    "date = st_BHZ_simu_filt[0].stats.endtime.ctime()[4:]"
   ]
  },
  {
   "cell_type": "code",
   "execution_count": 3,
   "metadata": {},
   "outputs": [],
   "source": [
    "fs = int(st_BHZ[0].stats.sampling_rate)\n",
    "first_date = st_BHZ[0].stats.endtime.ctime()[4:]"
   ]
  },
  {
   "cell_type": "code",
   "execution_count": null,
   "metadata": {},
   "outputs": [],
   "source": [
    "## Depends on workstation \n",
    "## day 337 in 2016 is  December 2, 2016 (Fri)\n",
    "\n",
    "#st = read('../../TEST_DATA/DATA/KNR01/BHZ.D/1B.KNR01..BHZ.D.2016.337')\n",
    "st_BH1 = read('/data/cen/u254/Essing/AWI/KNIPA_NEW/' + year + '/1B/' + station + '/' + component + '.D/1B.' + station + '..' + component + '.D.' + year + '.' + day)\n",
    "#parser01 = Parser('../../TEST_DATA/Resp/RESP.1B.KNR01..BHZ')\n",
    "parser01_BH1 = Parser('/data/cen/u254/Essing/AWI/CAL/RESP.1B.' + station + '..' + component)\n",
    "st_BH1 = st_BH1.decimate(factor=2)\n",
    "st_BH1_simu = st_BH1.copy()\n",
    "st_BH1_simu.simulate(seedresp={'filename': parser01_BH1, 'units': \"ACC\"})\n",
    "st_BH1_simu_filt = st_BH1_simu.copy()\n",
    "st_BH1_simu_filt = st_BH1_simu_filt.filter('bandpass',freqmin=.1, freqmax=10)\n",
    "\n",
    "\n",
    "\n",
    "component = 'BH2'\n",
    "\n",
    "\n",
    "#st = read('../../TEST_DATA/DATA/KNR01/BHZ.D/1B.KNR01..BHZ.D.2016.337')\n",
    "st_BH2 = read('/data/cen/u254/Essing/AWI/KNIPA_NEW/' + year + '/1B/' + station + '/' + component + '.D/1B.' + station + '..' + component + '.D.' + year + '.' + day)\n",
    "#parser01 = Parser('../../TEST_DATA/Resp/RESP.1B.KNR01..BHZ')\n",
    "parser01_BH2 = Parser('/data/cen/u254/Essing/AWI/CAL/RESP.1B.' + station + '..' + component)\n",
    "st_BH2 = st_BH2.decimate(factor=2)\n",
    "st_BH2_simu = st_BH2.copy()\n",
    "st_BH2_simu.simulate(seedresp={'filename': parser01_BH2, 'units': \"ACC\"})\n",
    "st_BH2_simu_filt = st_BH2_simu.copy()\n",
    "st_BH2_simu_filt = st_BH2_simu_filt.filter('bandpass',freqmin=.1, freqmax=10)"
   ]
  },
  {
   "cell_type": "code",
   "execution_count": null,
   "metadata": {},
   "outputs": [],
   "source": [
    "st_BHZ_simu_filt.plot()\n",
    "st_BH1_simu_filt.plot()\n",
    "st_BH2_simu_filt.plot()"
   ]
  },
  {
   "cell_type": "code",
   "execution_count": null,
   "metadata": {},
   "outputs": [],
   "source": [
    "figname = str(st[0].stats.station) + st[0].stats.channel #+ st[0].stats.starttime)\n",
    "\n",
    "print(((str(st[0].stats.station), st[0].stats.channel,st[0].stats.starttime)))"
   ]
  },
  {
   "cell_type": "markdown",
   "metadata": {},
   "source": [
    "# Filtercorner testing"
   ]
  },
  {
   "cell_type": "code",
   "execution_count": null,
   "metadata": {},
   "outputs": [],
   "source": [
    "st_filt = st.copy()\n",
    "st_filt = st_filt.filter('bandpass',freqmin=1, freqmax=8)\n",
    "st_array = np.asarray(st[0].data)\n",
    "st_filt_array = np.asarray(st_filt[0].data)\n",
    "\n",
    "fs = int(st_filt[0].stats.sampling_rate)\n",
    "\n",
    "t_start = fs*20000\n",
    "t1_start = t_start+fs*8000\n",
    "st_nofilt_10_min = st_array[t_start:t_start+10*fs*60]\n",
    "st_filt_10_min = st_filt_array[t_start:t_start+10*fs*60]\n",
    "#test1_10_min = st_array[t1_start:t1_start+10*fs*60]"
   ]
  },
  {
   "cell_type": "code",
   "execution_count": null,
   "metadata": {},
   "outputs": [],
   "source": [
    "f, Pxx = signal.periodogram(st_nofilt_10_min, fs=fs)\n",
    "f1,Pxx1 = signal.periodogram(st_filt_10_min, fs=fs)"
   ]
  },
  {
   "cell_type": "code",
   "execution_count": null,
   "metadata": {},
   "outputs": [],
   "source": [
    "#plt.semilogy(f, Pxx)\n",
    "plt.subplot(121)\n",
    "plt.plot(f, Pxx,label='nofilt')\n",
    "#plt.xlim(0,5)\n",
    "#plt.ylim(1e-4,1e6)\n",
    "plt.grid()\n",
    "\n",
    "plt.subplot(122)\n",
    "plt.plot(f1, Pxx1,label='filt')\n",
    "#plt.xlim(0,1)\n",
    "#plt.ylim(1e-4,1e6)\n",
    "plt.grid()\n",
    "\n",
    "plt.show()"
   ]
  },
  {
   "cell_type": "markdown",
   "metadata": {},
   "source": [
    "# Remove response"
   ]
  },
  {
   "cell_type": "code",
   "execution_count": null,
   "metadata": {},
   "outputs": [],
   "source": [
    "parser01 = Parser('../TEST_DATA/Resp/RESP.1B.KNR01..BHZ')\n",
    "st_simu = st.copy()\n",
    "st_simu.simulate(seedresp={'filename': parser01, 'units': \"ACC\"})"
   ]
  },
  {
   "cell_type": "code",
   "execution_count": null,
   "metadata": {},
   "outputs": [],
   "source": [
    "st_simu_filt = st_simu.copy()\n",
    "st_simu_array = np.array(st_simu[0].data)\n",
    "\n",
    "st_simu_filt = st_simu_filt.filter('highpass',freq=1)\n",
    "st_simu_filt_array = np.array(st_simu_filt[0].data)"
   ]
  },
  {
   "cell_type": "code",
   "execution_count": null,
   "metadata": {},
   "outputs": [],
   "source": [
    "plt.plot(st_simu_filt_array)\n",
    "#plt.xlim(318800,319500)\n",
    "plt.show()"
   ]
  },
  {
   "cell_type": "code",
   "execution_count": null,
   "metadata": {},
   "outputs": [],
   "source": [
    "t_start = fs*20000\n",
    "t1_start = t_start+fs*30000\n",
    "\n",
    "st_simu_nofilt_10_min = st_simu_array[t_start:t_start+10*fs*60]\n",
    "st_simu_filt_10_min = st_simu_filt_array[t_start:t_start+10*fs*60]"
   ]
  },
  {
   "cell_type": "code",
   "execution_count": null,
   "metadata": {},
   "outputs": [],
   "source": [
    "f2, Pxx2 = signal.periodogram(st_simu_nofilt_10_min, fs=fs)\n",
    "f3, Pxx3 = signal.periodogram(st_simu_filt_10_min, fs=fs)"
   ]
  },
  {
   "cell_type": "code",
   "execution_count": null,
   "metadata": {},
   "outputs": [],
   "source": [
    "plt.figure(figsize=(11,11))\n",
    "#plt.semilogy(f, Pxx)\n",
    "plt.subplot(221)\n",
    "plt.plot(f, Pxx,label='nofilt')\n",
    "#plt.xlim(0,5)\n",
    "#plt.ylim(1e-4,1e6)\n",
    "plt.legend()\n",
    "plt.grid()\n",
    "\n",
    "plt.subplot(222)\n",
    "plt.plot(f1, Pxx1,label='filt')\n",
    "#plt.xlim(0,1)\n",
    "#plt.ylim(1e-4,1e6)\n",
    "plt.legend()\n",
    "plt.grid()\n",
    "\n",
    "#plt.semilogy(f, Pxx)\n",
    "plt.subplot(223)\n",
    "plt.plot(f2, Pxx2, label='st_simu_nofilt')\n",
    "#plt.xlim(0,1)\n",
    "#plt.ylim(1e-4,1e6)\n",
    "plt.legend()\n",
    "plt.grid()\n",
    "\n",
    "plt.subplot(224)\n",
    "plt.plot(f3, Pxx3, label='st_simu_filt')\n",
    "#plt.xlim(0,1)\n",
    "#plt.ylim(1e-4,1e6)\n",
    "plt.legend()\n",
    "plt.grid()\n",
    "\n",
    "plt.show()"
   ]
  },
  {
   "cell_type": "markdown",
   "metadata": {},
   "source": [
    "# Signal vs. no signal"
   ]
  },
  {
   "cell_type": "code",
   "execution_count": null,
   "metadata": {},
   "outputs": [],
   "source": [
    "st_simu.plot()"
   ]
  },
  {
   "cell_type": "code",
   "execution_count": null,
   "metadata": {},
   "outputs": [],
   "source": [
    "#t_signal_start = 20000*fs\n",
    "#t_nosignal_start = 28000*fs\n",
    "#win_len = 4*60*fs\n",
    "\n",
    "st_simu_array = np.array(st_simu_filt[0].data)"
   ]
  },
  {
   "cell_type": "code",
   "execution_count": null,
   "metadata": {},
   "outputs": [],
   "source": [
    "st_simu_array1 = np.append(st_simu_array, 0)"
   ]
  },
  {
   "cell_type": "code",
   "execution_count": null,
   "metadata": {},
   "outputs": [],
   "source": []
  },
  {
   "cell_type": "code",
   "execution_count": null,
   "metadata": {},
   "outputs": [],
   "source": [
    "st_simu_signal_1_min = st_simu_array[t_signal_start:t_signal_start+win_len]\n",
    "f_sig, Pxx_sig = signal.periodogram(st_simu_signal_1_min, fs=fs)"
   ]
  },
  {
   "cell_type": "code",
   "execution_count": null,
   "metadata": {},
   "outputs": [],
   "source": [
    "Image('KNR01.BHZ_2016-12-02T00:00:00.000000Z.png')"
   ]
  },
  {
   "cell_type": "code",
   "execution_count": null,
   "metadata": {},
   "outputs": [],
   "source": [
    "plt.plot(f_sig, Pxx_sig)\n",
    "plt.plot(f_sig[np.argmax(Pxx_sig)], np.max(Pxx_sig), '.')\n",
    "#plt.plot(f_sig[np.argmax(Pxx_sig[::1])], np.max(Pxx_sig[::1]), 'o')\n",
    "plt.show()"
   ]
  },
  {
   "cell_type": "code",
   "execution_count": null,
   "metadata": {},
   "outputs": [],
   "source": [
    "def search_maxima_in_periodogram(maxima, data, fs=fs, wlen):\n",
    "    \n",
    "    '''Function to cut daily data into several windows and searche for maxima in each window\n",
    "    Input:\n",
    "    \n",
    "    maxima    float        number of maxima to search for\n",
    "    signal    array        array with data\n",
    "    fs        float        value of sampling rate\n",
    "    wlen      int          value of window length in seconds\n",
    "    \n",
    "    '''\n",
    "\n",
    "    \n",
    "    \n",
    "    \n",
    "    \n",
    "    f_sig, Pxx_sig = signal.periodogram(data, fs=fs)\n",
    "    index_max = np.zeros(maxima)\n",
    "    value_max_f = np.zeros(maxima)\n",
    "    value_max = np.zeros(maxima)\n",
    "    Pxx_sig1 = Pxx_sig.copy()\n",
    "    \n",
    "    #wlen = wlen * fs\n",
    "    #st_simu_signal_1_min = st_simu_array[t_signal_start:t_signal_start+win_len]\n",
    "    #for wlen in data:\n",
    "        #data_cut = st_simu_array[t_signal_start:t_signal_start+win_len]\n",
    "        #print(data_cut)\n",
    "    for i in range(maxima):\n",
    "\n",
    "        # first maxima\n",
    "\n",
    "\n",
    "        index_max[i] = np.argmax(Pxx_sig1)\n",
    "        value_max_f[i] = f_sig[np.argmax(Pxx_sig1)]\n",
    "        value_max[i] = np.max(Pxx_sig1)\n",
    "\n",
    "        minval = np.min(Pxx_sig1)\n",
    "        Pxx_sig1[int(index_max[i]-10):int(index_max[i]+10)] = minval-100\n",
    "    #fname = '../Plots/PSD/KNR01..BHZ.D.2016.337' + str(t_signal_start) + '-' + str(t_signal_start+ win_len)\n",
    "    #plt.semilogy(f_sig, Pxx_sig)\n",
    "    #plt.semilogy(value_max_f, value_max, 'o')\n",
    "    #plt.plot(value_ond_max_f, value_second_max, 'o')\n",
    "    #plt.plot(value_third_max_f, value_third_max, 'o')\n",
    "    #plt.plot(value_fourth_max_f, value_fourth_max, 'o')\n",
    "    #plt.plot(f_sig[np.argmax(Pxx_sig[::1])], np.max(Pxx_sig[::1]), 'o')\n",
    "    #plt.savefig(fname=fname)\n",
    "    return(value_max_f, value_max)"
   ]
  },
  {
   "cell_type": "code",
   "execution_count": null,
   "metadata": {},
   "outputs": [],
   "source": [
    "maxima = 8\n",
    "data= st_simu_signal_1_min\n",
    "\n",
    "value_max_f, value_max = search_maxima_in_periodogram(maxima, data, fs=fs)"
   ]
  },
  {
   "cell_type": "code",
   "execution_count": null,
   "metadata": {},
   "outputs": [],
   "source": [
    "plt.plot(f_sig, Pxx_sig)\n",
    "plt.plot(value_max_f, value_max, 'o')\n",
    "plt.ylim(0*1e-10,6*1e-10)\n",
    "plt.xlabel('Frequency [Hz]')\n",
    "plt.ylabel('PSD')\n",
    "#plt.xlim(1.2,2)\n",
    "plt.grid()\n",
    "#plt.plot(value_ond_max_f, value_second_max, 'o')\n",
    "#plt.plot(value_third_max_f, value_third_max, 'o')\n",
    "#plt.plot(value_fourth_max_f, value_fourth_max, 'o')\n",
    "#plt.plot(f_sig[np.argmax(Pxx_sig[::1])], np.max(Pxx_sig[::1]), 'o')\n",
    "plt.show()\n",
    "\n",
    "\n",
    "\n",
    "# next steps...\n",
    "# 1) while schleife mit abbruchkriterium nach 4-6 Durchlaeufen\n",
    "# 2) als definition schreiben\n",
    "# 3) "
   ]
  },
  {
   "cell_type": "markdown",
   "metadata": {},
   "source": [
    "# mlab.specgram"
   ]
  },
  {
   "cell_type": "code",
   "execution_count": 4,
   "metadata": {},
   "outputs": [],
   "source": [
    "from matplotlib import mlab, transforms\n",
    "plt.rcParams['image.cmap'] = 'Oranges'\n",
    "import math as M\n",
    "import matplotlib as mpl\n",
    "import numpy.ma as ma"
   ]
  },
  {
   "cell_type": "code",
   "execution_count": 5,
   "metadata": {},
   "outputs": [],
   "source": [
    "def _nearest_pow_2(x):\n",
    "    \"\"\"\n",
    "    copied from obspy specgram\n",
    "    Find power of two nearest to x\n",
    "    >>> _nearest_pow_2(3)\n",
    "    2.0\n",
    "    >>> _nearest_pow_2(15)\n",
    "    16.0\n",
    "    :type x: float\n",
    "    :param x: Number\n",
    "    :rtype: Int\n",
    "    :return: Nearest power of 2 to x\n",
    "    \"\"\"\n",
    "    a = M.pow(2, M.ceil(np.log2(x)))\n",
    "    b = M.pow(2, M.floor(np.log2(x)))\n",
    "    if abs(a - x) < abs(b - x):\n",
    "        return a\n",
    "    else:\n",
    "        return b\n",
    "\n",
    "    "
   ]
  },
  {
   "cell_type": "code",
   "execution_count": 6,
   "metadata": {},
   "outputs": [],
   "source": [
    "data_BHZ = np.array(st_BHZ_simu_filt[0].data)\n",
    "data_BHZ -= data_BHZ.mean()\n",
    "data_BHZ_1 = np.array(st_BHZ_simu_filt_1[0].data)\n",
    "data_BHZ_1 -= data_BHZ_1.mean()\n",
    "data_BHZ_2 = np.array(st_BHZ_simu_filt_2[0].data)\n",
    "data_BHZ_2 -= data_BHZ_2.mean()"
   ]
  },
  {
   "cell_type": "code",
   "execution_count": 7,
   "metadata": {},
   "outputs": [],
   "source": [
    "per_lap = .1\n",
    "wlen = float(fs*10)\n",
    "npts = len(data_BHZ)\n",
    "nfft = int(_nearest_pow_2(wlen * fs))\n",
    "nlap = int(nfft * float(per_lap))"
   ]
  },
  {
   "cell_type": "code",
   "execution_count": 8,
   "metadata": {},
   "outputs": [],
   "source": [
    "def searchmaxima(maxima, distance, data, scale_vector=0):\n",
    "    \n",
    "    '''\n",
    "    To find maxima in data, with option to give vecotr with scaling values for x-Axis\n",
    "    \n",
    "    Input:\n",
    "    maxima    scalar        value of maxima to find\n",
    "    distance  scalar        value for nearest next maxima to search for\n",
    "    data      1-D array     numpy array of data \n",
    "    freqvec   1-D array     numpy array of data with values to scale x-Axis (optional)\n",
    "    \n",
    "    '''\n",
    "\n",
    "    index_max = np.zeros(maxima)\n",
    "    value_max_f = np.zeros(maxima)\n",
    "    value_max = np.zeros(maxima)\n",
    "    data1 = data.copy()\n",
    "    \n",
    "    if type(scale_vector) == int:\n",
    "    \n",
    "        for i in range(maxima):\n",
    "            index_max[i] = np.argmax((data1))\n",
    "            value_max[i] = np.max((data1))\n",
    "            #index_max[i] = np.argmax(Pxx_sig1)\n",
    "            #value_max_f[i] = freqvec[np.argmax(data1)]\n",
    "            #value_max[i] = np.max(Pxx_sig1)\n",
    "\n",
    "            minimal_value = np.min(data1)\n",
    "\n",
    "            data1[int(index_max[i]-distance):int(index_max[i]+distance)] = minimal_value-100\n",
    "        return(value_max, index_max)\n",
    "    \n",
    "    else:\n",
    "        for i in range(maxima):\n",
    "            index_max[i] = np.argmax((data1))\n",
    "            value_max[i] = np.max((data1))\n",
    "            value_max_f[i] = scale_vector[np.argmax(data1)]\n",
    "            minimal_value = np.min(data1)\n",
    "        \n",
    "            data1[int(index_max[i]-distance):int(index_max[i]+distance)] = minimal_value-100\n",
    "            \n",
    "        return(value_max, index_max,value_max_f)"
   ]
  },
  {
   "cell_type": "code",
   "execution_count": 29,
   "metadata": {},
   "outputs": [],
   "source": [
    "def sorting_out_peaks(input_data, freq_vec, maxima, distance ,threshold, freq_minimal_value):\n",
    "    '''\n",
    "    Calls searchmaxima and just hands maxima values which meet with two options:\n",
    "            - there is a maximum below a certain frequency value (freq_minimal_value)\n",
    "            - maximum amplitude value is higher then certain ampiltude (threshold) \n",
    "    \n",
    "    \n",
    "    '''\n",
    "    \n",
    "    amp_values = np.zeros((np.shape(input_data)[1]))\n",
    "    frequency_indices = np.zeros_like(amp_values)\n",
    "    frequency_values = np.zeros_like(amp_values)\n",
    "    \n",
    "    \n",
    "    max_array = np.zeros_like(input_data)\n",
    "    for j in range(np.shape(input_data)[1]):\n",
    "        win_average = np.mean(input_data.T[j])\n",
    "        #if win_average < all_win_average:\n",
    "        # not a good solution. deletes as well some instrument signal\n",
    "\n",
    "        amp_values[j], frequency_indices[j], frequency_values[j] = searchmaxima(maxima=maxima, data=input_data.T[j],distance=distance, scale_vector=freq_vec)\n",
    "\n",
    "        #print(any(frequency_value<freq_minimal_value))\n",
    "        if any(frequency_values<freq_minimal_value) == True:\n",
    "            #print((frequency_value))\n",
    "            for i in range(len(frequency_indices)):\n",
    "\n",
    "\n",
    "                if amp_values[i] > threshold:\n",
    "                    max_array[int(frequency_indices[i]),j] = amp_values[i]\n",
    "    return (max_array, amp_values, frequency_indices, frequency_values)"
   ]
  },
  {
   "cell_type": "code",
   "execution_count": 30,
   "metadata": {},
   "outputs": [],
   "source": [
    "specgram_BHZ, freq, time = mlab.specgram(data_BHZ, Fs=fs, NFFT=nfft, noverlap=0)\n",
    "specgram_BHZ_1, freq, time = mlab.specgram(data_BHZ_1, Fs=fs, NFFT=nfft, noverlap=0)\n",
    "specgram_BHZ_2, freq, time = mlab.specgram(data_BHZ_2, Fs=fs, NFFT=nfft, noverlap=0)"
   ]
  },
  {
   "cell_type": "code",
   "execution_count": 31,
   "metadata": {},
   "outputs": [],
   "source": [
    "specgram_BHZ_masekd = ma.array(specgram_BHZ)\n",
    "specgram_BHZ_masekd[0:660,:] = ma.masked\n",
    "specgram_BHZ_masekd[950:np.shape(specgram_BHZ)[0],:] = ma.masked\n",
    "\n",
    "specgram_BHZ_masekd1 = ma.array(specgram_BHZ_1)\n",
    "specgram_BHZ_masekd1[0:660,:] = ma.masked\n",
    "specgram_BHZ_masekd1[950:np.shape(specgram_BHZ_1)[0],:] = ma.masked\n",
    "\n",
    "specgram_BHZ_masekd2 = ma.array(specgram_BHZ_2)\n",
    "specgram_BHZ_masekd2[0:660,:] = ma.masked\n",
    "specgram_BHZ_masekd2[950:np.shape(specgram_BHZ_2)[0],:] = ma.masked\n",
    "\n",
    "\n",
    "threshold = np.amax(specgram_BHZ_masekd)*1e-25\n",
    "freq_minimal_value = 3\n",
    "distance = 120\n",
    "maxima= 1"
   ]
  },
  {
   "cell_type": "code",
   "execution_count": 32,
   "metadata": {},
   "outputs": [],
   "source": [
    "#max_array_Z = sorting_out_peacks(input_data=specgram_BHZ, freq_vec=freq, maxima=maxima, threshold = threshold, distance = distance, freq_minimal_value = freq_minimal_value)\n",
    "max_array_Z_masked, amp_values, frequency_indices, frequency_values = sorting_out_peaks(input_data=specgram_BHZ_masekd, freq_vec=freq, maxima=maxima, distance = distance, threshold = threshold, freq_minimal_value = freq_minimal_value)\n",
    "\n",
    "max_array_Z_masked1, amp_values1, frequency_indices1, frequency_values1 = sorting_out_peaks(input_data=specgram_BHZ_masekd1, freq_vec=freq, maxima=maxima, distance = distance, threshold = threshold, freq_minimal_value = freq_minimal_value)\n",
    "max_array_Z_masked2, amp_values2, frequency_indices2, frequency_values2 = sorting_out_peaks(input_data=specgram_BHZ_masekd2, freq_vec=freq, maxima=maxima, distance = distance, threshold = threshold, freq_minimal_value = freq_minimal_value)"
   ]
  },
  {
   "cell_type": "code",
   "execution_count": 33,
   "metadata": {},
   "outputs": [],
   "source": [
    "three_days_freq = np.hstack((frequency_values, frequency_values1, frequency_values2))\n",
    "three_days_amp = np.hstack((amp_values, amp_values1, amp_values2))\n",
    "time_stack = np.hstack((time, time[-1]+time, (time[-1]+time)[-1]+time))"
   ]
  },
  {
   "cell_type": "code",
   "execution_count": 34,
   "metadata": {},
   "outputs": [
    {
     "data": {
      "image/png": "[encoded data removed]",
      "text/plain": [
       "<Figure size 1080x576 with 2 Axes>"
      ]
     },
     "metadata": {},
     "output_type": "display_data"
    }
   ],
   "source": [
    "fig, ax1 = plt.subplots(figsize=(15,8))\n",
    "\n",
    "ax1.plot(time_stack/3600, three_days_freq,'.', color='orange', label='Frequency')\n",
    "ax1.legend(loc='upper left')\n",
    "ax1.set_ylim((0,6))\n",
    "ax2 = ax1.twinx()\n",
    "ax2.plot(time_stack/3600,  10 * np.log10(three_days_amp), '-', color='red', alpha=.4, label='Amplitude')\n",
    "ax2.axhline(-115, color='red', alpha=.4)\n",
    "ax2.legend(loc='upper right')\n",
    "plt.title('last sample, first day: ' + first_date)\n",
    "plt.show()"
   ]
  },
  {
   "cell_type": "code",
   "execution_count": 114,
   "metadata": {},
   "outputs": [
    {
     "name": "stdout",
     "output_type": "stream",
     "text": [
      "Nov 17 23:59:59 2016\n"
     ]
    }
   ],
   "source": [
    "print(first_date)"
   ]
  },
  {
   "cell_type": "markdown",
   "metadata": {},
   "source": [
    "## Short step into curve fitting"
   ]
  },
  {
   "cell_type": "code",
   "execution_count": 56,
   "metadata": {},
   "outputs": [],
   "source": [
    "import numpy as np\n",
    "import scipy.optimize as opt\n",
    "import matplotlib.pyplot as plt\n",
    "%matplotlib inline\n",
    "\n"
   ]
  },
  {
   "cell_type": "code",
   "execution_count": 57,
   "metadata": {},
   "outputs": [],
   "source": [
    "def f(x, a, b, c, d):\n",
    "    return a / (1. + np.exp(-c * (x - d))) + b"
   ]
  },
  {
   "cell_type": "code",
   "execution_count": 58,
   "metadata": {},
   "outputs": [],
   "source": [
    "a, c = np.random.exponential(size=2)\n",
    "b, d = np.random.randn(2)"
   ]
  },
  {
   "cell_type": "code",
   "execution_count": 59,
   "metadata": {},
   "outputs": [],
   "source": [
    "n = 100\n",
    "x = np.linspace(-10., 10., n)\n",
    "y_model = f(x, a, b, c, d)\n",
    "y = y_model + a * .2 * np.random.randn(n)"
   ]
  },
  {
   "cell_type": "code",
   "execution_count": 62,
   "metadata": {},
   "outputs": [
    {
     "data": {
      "text/plain": [
       "[<matplotlib.lines.Line2D at 0x7ff6f9b1e4e0>]"
      ]
     },
     "execution_count": 62,
     "metadata": {},
     "output_type": "execute_result"
    },
    {
     "data": {
      "image/png": "[encoded data removed]",
      "text/plain": [
       "<Figure size 432x288 with 1 Axes>"
      ]
     },
     "metadata": {},
     "output_type": "display_data"
    }
   ],
   "source": [
    "fig, ax = plt.subplots(1, 1, figsize=(6, 4))\n",
    "ax.plot(x, y_model, '--k')\n",
    "ax.plot(x, y, 'o')"
   ]
  },
  {
   "cell_type": "code",
   "execution_count": 63,
   "metadata": {},
   "outputs": [],
   "source": [
    "(a_, b_, c_, d_), _ = opt.curve_fit(f, x, y)"
   ]
  },
  {
   "cell_type": "code",
   "execution_count": null,
   "metadata": {},
   "outputs": [],
   "source": []
  },
  {
   "cell_type": "code",
   "execution_count": 11,
   "metadata": {},
   "outputs": [],
   "source": [
    "test = np.hstack((max_array_Z_masked, max_array_Z_masked1, max_array_Z_masked2))\n",
    "time_stack = np.hstack((time, time[-1]+time, (time[-1]+time)[-1]+time))"
   ]
  },
  {
   "cell_type": "code",
   "execution_count": 12,
   "metadata": {},
   "outputs": [],
   "source": [
    "#vmin_spec = 10 * np.log10(np.min(np.array([specgram_BHZ,specgram_BH1,specgram_BH2])))\n",
    "#vmax_spec = 10 * np.log10(np.max(np.array([specgram_BHZ,specgram_BH1,specgram_BH2])))"
   ]
  },
  {
   "cell_type": "code",
   "execution_count": 13,
   "metadata": {},
   "outputs": [
    {
     "name": "stderr",
     "output_type": "stream",
     "text": [
      "/home/zmaw/u300967/.conda/envs/vgseis_2018/lib/python3.6/site-packages/ipykernel_launcher.py:18: RuntimeWarning: divide by zero encountered in log10\n",
      "/home/zmaw/u300967/.conda/envs/vgseis_2018/lib/python3.6/site-packages/ipykernel_launcher.py:19: RuntimeWarning: divide by zero encountered in log10\n",
      "/home/zmaw/u300967/.conda/envs/vgseis_2018/lib/python3.6/site-packages/ipykernel_launcher.py:26: RuntimeWarning: divide by zero encountered in log10\n",
      "/home/zmaw/u300967/.conda/envs/vgseis_2018/lib/python3.6/site-packages/ipykernel_launcher.py:27: RuntimeWarning: divide by zero encountered in log10\n"
     ]
    },
    {
     "data": {
      "image/png": "[encoded data removed]",
      "text/plain": [
       "<Figure size 1080x504 with 4 Axes>"
      ]
     },
     "metadata": {},
     "output_type": "display_data"
    }
   ],
   "source": [
    "import matplotlib.gridspec as gridspec\n",
    "\n",
    "\n",
    "\n",
    "\n",
    "\n",
    "fig, axs = plt.subplots(nrows=2, ncols=3, figsize=(15,7))\n",
    "axs = axs.flatten()\n",
    "\n",
    "gs = gridspec.GridSpec(2, 6)\n",
    "gs.update(wspace=0.5)\n",
    "axs[0] = plt.subplot(gs[0,:6])\n",
    "axs[1] = plt.subplot(gs[1, :2])\n",
    "axs[2] = plt.subplot(gs[1, 2:4])\n",
    "axs[3] = plt.subplot(gs[1, 4:6])\n",
    "\n",
    "\n",
    "axs[0].pcolormesh(time_stack/3600, freq, 10 * np.log10(test))\n",
    "axs[1].pcolormesh(time/3600, freq,10 * np.log10(max_array_Z_masked), cmap='YlOrRd')\n",
    "#axs[0].axhline(2, 0,86400, color='black')\n",
    "#axs[1].pcolormesh(time, freq,10 * np.log10(specgram_BHZ), vmin=vmin_spec, vmax=vmax_spec, cmap='winter')\n",
    "#axs[0].axhline(2, 0,86400, color='black')\n",
    "#axs[0].pcolormesh(time, freq,10 * np.log10(specgram_BHZ_masekd1), vmin=vmin_spec, vmax=vmax_spec, cmap='winter')\n",
    "#axs[0].pcolormesh(time, freq,10 * np.log10(max_array_Z), vmin=vmin_spec, vmax=vmax_spec, cmap='YlOrRd')\n",
    "\n",
    "axs[2].pcolormesh(time/3600, freq,10 * np.log10(max_array_Z_masked1), cmap='YlOrRd')\n",
    "axs[3].pcolormesh(time/3600, freq,10 * np.log10(max_array_Z_masked2), cmap='YlOrRd')\n",
    "\n",
    "#axs[1].pcolormesh(time, freq,10 * np.log10(max_array_Z_masked1), vmin=vmin_spec, vmax=vmax_spec, cmap='YlOrRd')\n",
    "#axs[1].pcolormesh(time, freq,10 * np.log10(max_array_Z_masked), vmin=vmin_spec, vmax=vmax_spec, cmap='YlOrRd')\n",
    "\n",
    "axs[1].set\n",
    "plt.show()"
   ]
  },
  {
   "cell_type": "code",
   "execution_count": null,
   "metadata": {},
   "outputs": [],
   "source": [
    "print(np.any(test[:,42]))"
   ]
  },
  {
   "cell_type": "code",
   "execution_count": null,
   "metadata": {},
   "outputs": [],
   "source": [
    "specgram_BHZ, freq, time = mlab.specgram(data_BHZ, Fs=fs, NFFT=nfft, noverlap=0)\n",
    "specgram_BH1, freq, time = mlab.specgram(data_BH1, Fs=fs, NFFT=nfft, noverlap=0)\n",
    "specgram_BH2, freq, time = mlab.specgram(data_BH2, Fs=fs, NFFT=nfft, noverlap=0)\n",
    "\n",
    "\n",
    "#max_array_BHZ = np.zeros_like(specgram_BHZ)\n",
    "#max_array_BH1 = np.zeros_like(specgram_BH1)\n",
    "#max_array_BH2 = np.zeros_like(specgram_BH2)\n",
    "\n",
    "threshold = np.amax(specgram_BHZ)*1e-25\n",
    "freq_minimal_value = 3\n",
    "distance = 120\n",
    "maxima= 1\n",
    "#all_win_average = np.mean(specgram.T)\n",
    "\n",
    "max_array_Z = sorting_out_peacks(input_data=specgram_BHZ, freq_vec=freq, maxima=maxima, threshold = threshold, distance = distance, freq_minimal_value = freq_minimal_value)\n",
    "max_array_1 = sorting_out_peacks(input_data=specgram_BH1, freq_vec=freq, maxima=maxima, threshold = threshold, distance = distance, freq_minimal_value = freq_minimal_value)\n",
    "max_array_2 = sorting_out_peacks(input_data=specgram_BH2, freq_vec=freq, maxima=maxima, threshold = threshold, distance = distance, freq_minimal_value = freq_minimal_value)\n",
    "\n",
    "\n",
    "\n",
    "vmin_amp =  10 * np.log10(np.min(np.hstack(([max_array_Z[max_array_Z != 0]], [max_array_1[max_array_1 != 0]],[max_array_2[max_array_2 != 0]]))))\n",
    "vmax_amp =  10 * np.log10(np.max(np.array([max_array_Z,max_array_1,max_array_2])))\n",
    "vmin_spec = 10 * np.log10(np.min(np.array([specgram_BHZ,specgram_BH1,specgram_BH2])))\n",
    "vmax_spec = 10 * np.log10(np.max(np.array([specgram_BHZ,specgram_BH1,specgram_BH2])))\n",
    "\n",
    "fig, ax = plt.subplots(figsize=(13,7))\n",
    "specgramZ_plot = ax.pcolormesh(time/3600, freq, 10 * np.log10(specgram_BHZ[1:,:]), alpha=.99, cmap='winter', vmin=vmin_spec, vmax=vmax_spec)\n",
    "amp_valZ_plot = ax.pcolormesh(time/3600, freq, 10 * np.log10(max_array_Z),cmap='YlOrRd', vmin=vmin_amp,vmax=vmax_amp)\n",
    "#specgram_plot = ax.pcolormesh(10 * np.log10(specgram[1:,:]), alpha=1, cmap='winter')\n",
    "#amp_val_plot = ax.pcolormesh(10 * np.log10(max_array), alpha=.5, cmap='YlOrRd')\n",
    "\n",
    "plt.xticks(np.linspace(0,24,13))\n",
    "plt.xlabel('Time [h]')\n",
    "plt.ylabel('Frequency [Hz]')\n",
    "plt.title(st_BHZ_simu_filt[0].stats.station + '_' + st_BHZ_simu_filt[0].stats.channel + '_' + date)\n",
    "\n",
    "cbaxes = fig.add_axes([0, 0.1, 0.02, 0.8]) \n",
    "cb = plt.colorbar(specgramZ_plot, cax = cbaxes) \n",
    "cb.ax.set_ylabel('Amplitude [dB]')\n",
    "cb.ax.get_yaxis().labelpad = -80\n",
    "cbaxes = fig.add_axes([.95, 0.1, 0.02, 0.8]) \n",
    "cb = plt.colorbar(amp_valZ_plot, cax = cbaxes) \n",
    "cb.ax.set_ylabel('Amplitude [dB]', rotation=270)\n",
    "cb.ax.get_yaxis().labelpad = 40\n",
    "\n",
    "\n",
    "\n",
    "fig, ax = plt.subplots(figsize=(13,7))\n",
    "specgram1_plot = ax.pcolormesh(time/3600, freq, 10 * np.log10(specgram_BH1[1:,:]), alpha=.99, cmap='winter',  vmin=vmin_spec, vmax=vmax_spec)\n",
    "amp_val1_plot = ax.pcolormesh(time/3600, freq, 10 * np.log10(max_array_1),cmap='YlOrRd',vmin=vmin_amp,vmax=vmax_amp)\n",
    "#specgram_plot = ax.pcolormesh(10 * np.log10(specgram[1:,:]), alpha=1, cmap='winter')\n",
    "#amp_val_plot = ax.pcolormesh(10 * np.log10(max_array), alpha=.5, cmap='YlOrRd')\n",
    "\n",
    "plt.xticks(np.linspace(0,24,13))\n",
    "plt.xlabel('Time [h]')\n",
    "plt.ylabel('Frequency [Hz]')\n",
    "plt.title(st_BH1_simu_filt[0].stats.station + '_' + st_BH1_simu_filt[0].stats.channel + '_' + date)\n",
    "\n",
    "cbaxes = fig.add_axes([0, 0.1, 0.02, 0.8]) \n",
    "cb = plt.colorbar(specgram1_plot, cax = cbaxes) \n",
    "cb.ax.set_ylabel('Amplitude [dB]')\n",
    "cb.ax.get_yaxis().labelpad = -80\n",
    "cbaxes = fig.add_axes([.95, 0.1, 0.02, 0.8]) \n",
    "cb = plt.colorbar(amp_val1_plot, cax = cbaxes) \n",
    "cb.ax.set_ylabel('Amplitude [dB]', rotation=270)\n",
    "cb.ax.get_yaxis().labelpad = 40\n",
    "\n",
    "\n",
    "fig, ax = plt.subplots(figsize=(13,7))\n",
    "specgram2_plot = ax.pcolormesh(time/3600, freq, 10 * np.log10(specgram_BH2[1:,:]), alpha=.99, cmap='winter',  vmin=vmin_spec, vmax=vmax_spec)\n",
    "amp_val2_plot = ax.pcolormesh(time/3600, freq, 10 * np.log10(max_array_2),cmap='YlOrRd', vmin=vmin_amp,vmax=vmax_amp)\n",
    "#specgram_plot = ax.pcolormesh(10 * np.log10(specgram[1:,:]), alpha=1, cmap='winter')\n",
    "#amp_val_plot = ax.pcolormesh(10 * np.log10(max_array), alpha=.5, cmap='YlOrRd')\n",
    "\n",
    "plt.xticks(np.linspace(0,24,13))\n",
    "plt.xlabel('Time [h]')\n",
    "plt.ylabel('Frequency [Hz]')\n",
    "plt.title(st_BH2_simu_filt[0].stats.station + '_' + st_BH2_simu_filt[0].stats.channel + '_' + date)\n",
    "\n",
    "cbaxes = fig.add_axes([0, 0.1, 0.02, 0.8]) \n",
    "cb = plt.colorbar(specgram2_plot, cax = cbaxes) \n",
    "cb.ax.set_ylabel('Amplitude [dB]')\n",
    "cb.ax.get_yaxis().labelpad = -80\n",
    "cbaxes = fig.add_axes([.95, 0.1, 0.02, 0.8]) \n",
    "cb = plt.colorbar(amp_val2_plot, cax = cbaxes) \n",
    "cb.ax.set_ylabel('Amplitude [dB]', rotation=270)\n",
    "cb.ax.get_yaxis().labelpad = 40\n",
    "\n",
    "\n",
    "#plt.xlim(2,6)\n",
    "#plt.ylim(0,4)\n",
    "#plt.grid(alpha=.1)\n",
    "\n",
    "\n",
    "plt.show()"
   ]
  },
  {
   "cell_type": "code",
   "execution_count": null,
   "metadata": {},
   "outputs": [],
   "source": [
    "fig, ax = plt.subplots(figsize=(13,7))\n",
    "specgram_plot = ax.pcolormesh(time/3600, freq, 10 * np.log10(specgram[1:,:]), alpha=.6, cmap='winter')\n",
    "amp_val_plot = ax.pcolormesh(time/3600, freq, 10 * np.log10(max_array),cmap='YlOrRd')\n",
    "#specgram_plot = ax.pcolormesh(10 * np.log10(specgram[1:,:]), alpha=1, cmap='winter')\n",
    "#amp_val_plot = ax.pcolormesh(10 * np.log10(max_array), alpha=.5, cmap='YlOrRd')\n",
    "cbar = plt.colorbar(amp_val_plot)\n",
    "cbar.set_clim(-160,-80)\n",
    "cbar.ax.get_yaxis().labelpad = 15\n",
    "cbar.ax.set_ylabel('dB-scale', rotation=270)\n",
    "\n",
    "plt.xticks(np.linspace(0,24,13))\n",
    "#plt.xlim(2,6)\n",
    "#plt.ylim(0,4)\n",
    "#plt.grid(alpha=.1)\n",
    "\n",
    "plt.xlabel('Time [h]')\n",
    "plt.ylabel('Frequency [Hz]')\n",
    "plt.show()"
   ]
  },
  {
   "cell_type": "code",
   "execution_count": null,
   "metadata": {},
   "outputs": [],
   "source": [
    "\n",
    "\n",
    "\n",
    "fig, ax = plt.subplots(figsize=(13,7))\n",
    "specgramZ_plot = ax.pcolormesh(time/3600, freq, 10 * np.log10(specgram_BHZ[1:,:]), alpha=.8, cmap='winter', vmin=vmin_spec, vmax=vmax_spec)\n",
    "amp_valZ_plot = ax.pcolormesh(time/3600, freq, 10 * np.log10(max_array_Z),cmap='YlOrRd', vmin=vmin_amp,vmax=vmax_amp)\n",
    "plt.xlabel('Time [h]')\n",
    "plt.ylabel('Frequency [Hz]')\n",
    "plt.title(st_BHZ_simu_filt[0].stats.station + '_' + st_BHZ_simu_filt[0].stats.channel + '_' + date)\n",
    "#specgram_plot = ax.pcolormesh(10 * np.log10(specgram[1:,:]), alpha=1, cmap='winter')\n",
    "#amp_val_plot = ax.pcolormesh(10 * np.log10(max_array), alpha=.5, cmap='YlOrRd')\n",
    "cbaxes = fig.add_axes([0, 0.1, 0.02, 0.8]) \n",
    "cb = plt.colorbar(specgramZ_plot, cax = cbaxes) \n",
    "cb.ax.set_ylabel('dB-scale')\n",
    "cb.ax.get_yaxis().labelpad = -80\n",
    "cbaxes = fig.add_axes([.95, 0.1, 0.02, 0.8]) \n",
    "cb = plt.colorbar(amp_valZ_plot, cax = cbaxes) \n",
    "cb.ax.set_ylabel('dB-scale', rotation=270)\n",
    "cb.ax.get_yaxis().labelpad = 40\n",
    "#\n",
    "\n",
    "#cbar.set_clim(vmin,vmax)\n",
    "#cbar.ax.get_yaxis().labelpad = 15\n",
    "#cbar.ax.set_ylabel('dB-scale', rotation=270)\n",
    "\n",
    "plt.xticks(np.linspace(0,24,13))\n",
    "#plt.xlim(2,6)\n",
    "#plt.ylim(0,4)\n",
    "#plt.grid(alpha=.1)\n",
    "plt.show()"
   ]
  }
 ],
 "metadata": {
  "kernelspec": {
   "display_name": "Python 3",
   "language": "python",
   "name": "python3"
  },
  "language_info": {
   "codemirror_mode": {
    "name": "ipython",
    "version": 3
   },
   "file_extension": ".py",
   "mimetype": "text/x-python",
   "name": "python",
   "nbconvert_exporter": "python",
   "pygments_lexer": "ipython3",
   "version": "3.6.4"
  }
 },
 "nbformat": 4,
 "nbformat_minor": 2
}
