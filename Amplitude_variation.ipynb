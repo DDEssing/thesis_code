{
 "cells": [
  {
   "cell_type": "code",
   "execution_count": 1,
   "metadata": {},
   "outputs": [],
   "source": [
    "import numpy as np\n",
    "from obspy import read\n",
    "from obspy.io.xseed import Parser\n",
    "from scipy import signal\n",
    "import obspy\n",
    "import matplotlib.pyplot as plt"
   ]
  },
  {
   "cell_type": "markdown",
   "metadata": {},
   "source": [
    "## Loading Data and decimate it to 25Hz by factor 2"
   ]
  },
  {
   "cell_type": "code",
   "execution_count": 2,
   "metadata": {},
   "outputs": [],
   "source": [
    "st = read('../TEST_DATA/DATA/KNR01/BHZ.D/1B.KNR01..BHZ.D.2016.337')\n",
    "st = st.decimate(factor=2)"
   ]
  },
  {
   "cell_type": "markdown",
   "metadata": {},
   "source": [
    "# Filtercorner testing"
   ]
  },
  {
   "cell_type": "code",
   "execution_count": null,
   "metadata": {},
   "outputs": [],
   "source": [
    "st_filt = st.copy()\n",
    "st_filt = st_filt.filter('bandpass',freqmin=1, freqmax=8)\n",
    "st_array = np.asarray(st[0].data)\n",
    "st_filt_array = np.asarray(st_filt[0].data)\n",
    "\n",
    "fs = int(st_filt[0].stats.sampling_rate)\n",
    "\n",
    "t_start = fs*20000\n",
    "t1_start = t_start+fs*8000\n",
    "st_nofilt_10_min = st_array[t_start:t_start+10*fs*60]\n",
    "st_filt_10_min = st_filt_array[t_start:t_start+10*fs*60]\n",
    "#test1_10_min = st_array[t1_start:t1_start+10*fs*60]"
   ]
  },
  {
   "cell_type": "code",
   "execution_count": null,
   "metadata": {},
   "outputs": [],
   "source": [
    "f, Pxx = signal.periodogram(st_nofilt_10_min, fs=fs)\n",
    "f1,Pxx1 = signal.periodogram(st_filt_10_min, fs=fs)"
   ]
  },
  {
   "cell_type": "code",
   "execution_count": null,
   "metadata": {},
   "outputs": [],
   "source": [
    "#plt.semilogy(f, Pxx)\n",
    "plt.subplot(121)\n",
    "plt.plot(f, Pxx,label='nofilt')\n",
    "#plt.xlim(0,5)\n",
    "#plt.ylim(1e-4,1e6)\n",
    "plt.grid()\n",
    "\n",
    "plt.subplot(122)\n",
    "plt.plot(f1, Pxx1,label='filt')\n",
    "#plt.xlim(0,1)\n",
    "#plt.ylim(1e-4,1e6)\n",
    "plt.grid()\n",
    "\n",
    "plt.show()"
   ]
  },
  {
   "cell_type": "markdown",
   "metadata": {},
   "source": [
    "# Remove response"
   ]
  },
  {
   "cell_type": "code",
   "execution_count": null,
   "metadata": {},
   "outputs": [],
   "source": [
    "parser01 = Parser('../TEST_DATA/Resp/RESP.1B.KNR01..BHZ')\n",
    "st_simu = st.copy()\n",
    "st_simu.simulate(seedresp={'filename': parser01, 'units': \"ACC\"})"
   ]
  },
  {
   "cell_type": "code",
   "execution_count": null,
   "metadata": {},
   "outputs": [],
   "source": [
    "st_simu_filt = st_simu.copy()\n",
    "st_simu_array = np.array(st_simu[0].data)\n",
    "\n",
    "st_simu_filt = st_simu_filt.filter('highpass',freq=1)\n",
    "st_simu_filt_array = np.array(st_simu_filt[0].data)"
   ]
  },
  {
   "cell_type": "code",
   "execution_count": null,
   "metadata": {},
   "outputs": [],
   "source": [
    "plt.plot(st_simu_filt_array)\n",
    "#plt.xlim(318800,319500)\n",
    "plt.show()"
   ]
  },
  {
   "cell_type": "code",
   "execution_count": null,
   "metadata": {},
   "outputs": [],
   "source": [
    "t_start = fs*20000\n",
    "t1_start = t_start+fs*30000\n",
    "\n",
    "st_simu_nofilt_10_min = st_simu_array[t_start:t_start+10*fs*60]\n",
    "st_simu_filt_10_min = st_simu_filt_array[t_start:t_start+10*fs*60]"
   ]
  },
  {
   "cell_type": "code",
   "execution_count": null,
   "metadata": {},
   "outputs": [],
   "source": [
    "f2, Pxx2 = signal.periodogram(st_simu_nofilt_10_min, fs=fs)\n",
    "f3, Pxx3 = signal.periodogram(st_simu_filt_10_min, fs=fs)"
   ]
  },
  {
   "cell_type": "code",
   "execution_count": null,
   "metadata": {},
   "outputs": [],
   "source": [
    "plt.figure(figsize=(11,11))\n",
    "#plt.semilogy(f, Pxx)\n",
    "plt.subplot(221)\n",
    "plt.plot(f, Pxx,label='nofilt')\n",
    "#plt.xlim(0,5)\n",
    "#plt.ylim(1e-4,1e6)\n",
    "plt.legend()\n",
    "plt.grid()\n",
    "\n",
    "plt.subplot(222)\n",
    "plt.plot(f1, Pxx1,label='filt')\n",
    "#plt.xlim(0,1)\n",
    "#plt.ylim(1e-4,1e6)\n",
    "plt.legend()\n",
    "plt.grid()\n",
    "\n",
    "#plt.semilogy(f, Pxx)\n",
    "plt.subplot(223)\n",
    "plt.plot(f2, Pxx2, label='st_simu_nofilt')\n",
    "#plt.xlim(0,1)\n",
    "#plt.ylim(1e-4,1e6)\n",
    "plt.legend()\n",
    "plt.grid()\n",
    "\n",
    "plt.subplot(224)\n",
    "plt.plot(f3, Pxx3, label='st_simu_filt')\n",
    "#plt.xlim(0,1)\n",
    "#plt.ylim(1e-4,1e6)\n",
    "plt.legend()\n",
    "plt.grid()\n",
    "\n",
    "plt.show()"
   ]
  },
  {
   "cell_type": "markdown",
   "metadata": {},
   "source": [
    "# Signal vs. no signal"
   ]
  },
  {
   "cell_type": "code",
   "execution_count": 3,
   "metadata": {},
   "outputs": [
    {
     "name": "stderr",
     "output_type": "stream",
     "text": [
      "/home/david/anaconda3/envs/vgseis_2018/lib/python3.6/site-packages/obspy/signal/detrend.py:31: FutureWarning: Conversion of the second argument of issubdtype from `float` to `np.floating` is deprecated. In future, it will be treated as `np.float64 == np.dtype(float).type`.\n",
      "  if not np.issubdtype(data.dtype, float):\n"
     ]
    },
    {
     "data": {
      "text/plain": [
       "1 Trace(s) in Stream:\n",
       "1B.KNR01..BHZ | 2016-12-02T00:00:00.000000Z - 2016-12-02T23:59:59.920000Z | 25.0 Hz, 2159999 samples"
      ]
     },
     "execution_count": 3,
     "metadata": {},
     "output_type": "execute_result"
    }
   ],
   "source": [
    "parser01 = Parser('../TEST_DATA/Resp/RESP.1B.KNR01..BHZ')\n",
    "st_simu = st.copy()\n",
    "st_simu.simulate(seedresp={'filename': parser01, 'units': \"ACC\"})"
   ]
  },
  {
   "cell_type": "code",
   "execution_count": 4,
   "metadata": {},
   "outputs": [
    {
     "data": {
      "image/png": "[encoded data removed]",
      "text/plain": [
       "<Figure size 800x250 with 1 Axes>"
      ]
     },
     "metadata": {},
     "output_type": "display_data"
    }
   ],
   "source": [
    "st_simu.plot()"
   ]
  },
  {
   "cell_type": "code",
   "execution_count": 22,
   "metadata": {},
   "outputs": [],
   "source": [
    "st_simu_filt = st_simu.copy()\n",
    "st_simu_filt = st_simu_filt.filter('bandpass',freqmin=1, freqmax=6.9)"
   ]
  },
  {
   "cell_type": "code",
   "execution_count": 55,
   "metadata": {},
   "outputs": [
    {
     "name": "stdout",
     "output_type": "stream",
     "text": [
      "25\n"
     ]
    }
   ],
   "source": [
    "fs = int(st_simu[0].stats.sampling_rate)\n",
    "print(fs)\n",
    "t_signal_start = 30000*fs\n",
    "t_nosignal_start = 38000*fs\n",
    "win_len = 4*60*fs\n",
    "\n",
    "st_simu_array = np.array(st_simu_filt[0].data)"
   ]
  },
  {
   "cell_type": "code",
   "execution_count": 56,
   "metadata": {},
   "outputs": [],
   "source": [
    "st_simu_signal_1_min = st_simu_array[t_signal_start:t_signal_start+win_len]\n",
    "f_sig, Pxx_sig = signal.periodogram(st_simu_signal_1_min, fs=fs)"
   ]
  },
  {
   "cell_type": "code",
   "execution_count": 57,
   "metadata": {},
   "outputs": [
    {
     "ename": "SyntaxError",
     "evalue": "invalid syntax (<ipython-input-57-f8d1be0104ca>, line 1)",
     "output_type": "error",
     "traceback": [
      "\u001b[0;36m  File \u001b[0;32m\"<ipython-input-57-f8d1be0104ca>\"\u001b[0;36m, line \u001b[0;32m1\u001b[0m\n\u001b[0;31m    for i in range()\u001b[0m\n\u001b[0m                    ^\u001b[0m\n\u001b[0;31mSyntaxError\u001b[0m\u001b[0;31m:\u001b[0m invalid syntax\n"
     ]
    }
   ],
   "source": [
    "for i in range()"
   ]
  },
  {
   "cell_type": "code",
   "execution_count": null,
   "metadata": {},
   "outputs": [],
   "source": []
  },
  {
   "cell_type": "code",
   "execution_count": 58,
   "metadata": {},
   "outputs": [
    {
     "data": {
      "image/png": "[encoded data removed]",
      "text/plain": [
       "<Figure size 432x288 with 1 Axes>"
      ]
     },
     "metadata": {},
     "output_type": "display_data"
    }
   ],
   "source": [
    "plt.plot(f_sig, Pxx_sig)\n",
    "plt.plot(f_sig[np.argmax(Pxx_sig)], np.max(Pxx_sig), '.')\n",
    "#plt.plot(f_sig[np.argmax(Pxx_sig[::1])], np.max(Pxx_sig[::1]), 'o')\n",
    "plt.show()"
   ]
  },
  {
   "cell_type": "code",
   "execution_count": 59,
   "metadata": {},
   "outputs": [],
   "source": [
    "def searchmaxima(maxima, data, fs=fs):\n",
    "    \n",
    "    '''Function to cut daily data into several windows and searches for maxima in window\n",
    "    Input:\n",
    "    \n",
    "    maxima    float        number of maxima to search for\n",
    "    signal    array        array with data\n",
    "    fs        float        value of sampling rate\n",
    "    wlen      int          value of window length in seconds\n",
    "    \n",
    "    '''\n",
    "\n",
    "    f_sig, Pxx_sig = signal.periodogram(data, fs=fs)\n",
    "    index_max = np.zeros(maxima)\n",
    "    value_max_f = np.zeros(maxima)\n",
    "    value_max = np.zeros(maxima)\n",
    "    Pxx_sig1 = Pxx_sig.copy()\n",
    "    \n",
    "    #wlen = wlen * fs\n",
    "    #st_simu_signal_1_min = st_simu_array[t_signal_start:t_signal_start+win_len]\n",
    "    #for wlen in data:\n",
    "        #data_cut = st_simu_array[t_signal_start:t_signal_start+win_len]\n",
    "        #print(data_cut)\n",
    "    for i in range(maxima):\n",
    "\n",
    "        # first maxima\n",
    "\n",
    "        index_max[i] = np.argmax(Pxx_sig1)\n",
    "        value_max_f[i] = f_sig[np.argmax(Pxx_sig1)]\n",
    "        value_max[i] = np.max(Pxx_sig1)\n",
    "\n",
    "\n",
    "        Pxx_sig1[int(index_max[i]-10):int(index_max[i]+10)] = 0\n",
    "    #fname = '../Plots/PSD/KNR01..BHZ.D.2016.337' + str(t_signal_start) + '-' + str(t_signal_start+ win_len)\n",
    "    #plt.semilogy(f_sig, Pxx_sig)\n",
    "    #plt.semilogy(value_max_f, value_max, 'o')\n",
    "    #plt.plot(value_ond_max_f, value_second_max, 'o')\n",
    "    #plt.plot(value_third_max_f, value_third_max, 'o')\n",
    "    #plt.plot(value_fourth_max_f, value_fourth_max, 'o')\n",
    "    #plt.plot(f_sig[np.argmax(Pxx_sig[::1])], np.max(Pxx_sig[::1]), 'o')\n",
    "    #plt.savefig(fname=fname)\n",
    "    return(value_max_f, value_max)"
   ]
  },
  {
   "cell_type": "code",
   "execution_count": 60,
   "metadata": {},
   "outputs": [],
   "source": [
    "maxima = 8\n",
    "data= st_simu_signal_1_min\n",
    "\n",
    "value_max_f, value_max = searchmaxima(maxima, data, fs=fs)"
   ]
  },
  {
   "cell_type": "code",
   "execution_count": 61,
   "metadata": {},
   "outputs": [
    {
     "data": {
      "image/png": "[encoded data removed]",
      "text/plain": [
       "<Figure size 432x288 with 1 Axes>"
      ]
     },
     "metadata": {},
     "output_type": "display_data"
    }
   ],
   "source": [
    "plt.plot(f_sig, Pxx_sig)\n",
    "plt.plot(value_max_f, value_max, 'o')\n",
    "plt.ylim(0*1e-10,6*1e-10)\n",
    "plt.xlabel('Frequency [Hz]')\n",
    "plt.ylabel('PSD')\n",
    "#plt.xlim(1.2,2)\n",
    "plt.grid()\n",
    "#plt.plot(value_ond_max_f, value_second_max, 'o')\n",
    "#plt.plot(value_third_max_f, value_third_max, 'o')\n",
    "#plt.plot(value_fourth_max_f, value_fourth_max, 'o')\n",
    "#plt.plot(f_sig[np.argmax(Pxx_sig[::1])], np.max(Pxx_sig[::1]), 'o')\n",
    "plt.show()\n",
    "\n",
    "\n",
    "\n",
    "# next steps...\n",
    "# 1) while schleife mit abbruchkriterium nach 4-6 Durchlaeufen\n",
    "# 2) als definition schreiben\n",
    "# 3) "
   ]
  },
  {
   "cell_type": "code",
   "execution_count": null,
   "metadata": {},
   "outputs": [],
   "source": [
    "print(np.mean(Pxx_sig)*100)\n",
    "b = Pxx_sig > np.mean(Pxx_sig)*100\n"
   ]
  },
  {
   "cell_type": "code",
   "execution_count": 19,
   "metadata": {},
   "outputs": [
    {
     "data": {
      "text/plain": [
       "86400"
      ]
     },
     "execution_count": 19,
     "metadata": {},
     "output_type": "execute_result"
    }
   ],
   "source": [
    "24*60*60"
   ]
  },
  {
   "cell_type": "code",
   "execution_count": null,
   "metadata": {},
   "outputs": [],
   "source": [
    "print(len(Pxx_sig))\n",
    "print(len(Pxx_sig[::-1]))\n",
    "\n",
    "\n",
    "plt.plot(Pxx_sig)\n",
    "plt.plot(Pxx_sig[::-1], '.')\n",
    "plt.show()"
   ]
  },
  {
   "cell_type": "code",
   "execution_count": null,
   "metadata": {},
   "outputs": [],
   "source": [
    "#k = 0\n",
    "#for i in range((t_signal_start),int(t_signal_start+(t_nosignal_start-t_signal_start)), int(win_len)):\n",
    "    #print(i/fs)\n",
    "    #k += 1\n",
    "#print(k)\n",
    "#print(fs)\n",
    "\n",
    "#for i in arange(int(t_signal_start),int(t_signal_start+(t_nosignal_start-t_signal_start)), int(win_len)):\n",
    "#    print(i)"
   ]
  },
  {
   "cell_type": "code",
   "execution_count": null,
   "metadata": {},
   "outputs": [],
   "source": [
    "for i in range(int(t_signal_start),int(t_nosignal_start), int(win_len)):\n",
    "    print(i/fs,(i+win_len)/fs)\n",
    "    st_simu_signal_1_min = st_simu_array[i:i+win_len]\n",
    "    f_sig, Pxx_sig = signal.periodogram(st_simu_signal_1_min, fs=fs)\n",
    "    plt.plot(f_sig, Pxx_sig, label=i/fs)\n",
    "    #plt.ylim(10e-18,.8*10e-10)\n",
    "    plt.ylim(0,.03*10e-10)\n",
    "    plt.legend()\n",
    "    plt.grid()\n",
    "    #print(str(t_signal_start/fs + i/fs))\n",
    "    plt.savefig('../Plots/Amplitude_SPEC/Lin/' + str(i/fs) + 'lin' + '.png')\n",
    "    plt.clf()\n",
    "#plt.show()\n",
    "#st_simu_signal_10more_min = st_simu_array[t_singal_start+5*fs*60:t_singal_start+20*fs*60]\n",
    "#st_simu_signal_10less_min = st_simu_array[t_singal_start-5*fs*60:t_singal_start]\n",
    "\n",
    "#st_simu_nosignal_10_min = st_simu_array[t_nosingal_start:t_nosingal_start+10*fs*60]"
   ]
  },
  {
   "cell_type": "code",
   "execution_count": null,
   "metadata": {},
   "outputs": [],
   "source": [
    "f_sig, Pxx_sig = signal.periodogram(st_simu_signal_1_min, fs=fs)\n",
    "#f_sig1, Pxx_sig1 = signal.periodogram(st_simu_signal_10more_min, fs=fs)\n",
    "#f_sig2, Pxx_sig2 = signal.periodogram(st_simu_signal_10less_min, fs=fs)"
   ]
  },
  {
   "cell_type": "code",
   "execution_count": null,
   "metadata": {},
   "outputs": [],
   "source": [
    "plt.figure(figsize=(8,8))\n",
    "\n",
    "#plt.subplot(131)\n",
    "plt.plot(f_sig, Pxx_sig,label='3min')\n",
    "#plt.xlim(0,1)\n",
    "plt.ylim(0,.8*1e-9)\n",
    "plt.grid()\n",
    "plt.legend()\n",
    "plt.show()"
   ]
  },
  {
   "cell_type": "code",
   "execution_count": null,
   "metadata": {},
   "outputs": [],
   "source": [
    "plt.subplot(132)\n",
    "plt.plot(f_sig, Pxx_sig,label='signal')\n",
    "#plt.xlim(0,5)\n",
    "plt.ylim(0,.8*1e-9)\n",
    "plt.grid()\n",
    "\n",
    "plt.subplot(133)\n",
    "plt.plot(f_sig1, Pxx_sig1,label='10min more')\n",
    "#plt.xlim(0,1)\n",
    "plt.ylim(0,.8*1e-9)\n",
    "plt.grid()\n",
    "\n",
    "\n",
    "\n",
    "plt.show()"
   ]
  },
  {
   "cell_type": "code",
   "execution_count": 20,
   "metadata": {},
   "outputs": [
    {
     "data": {
      "text/plain": [
       "360.0"
      ]
     },
     "execution_count": 20,
     "metadata": {},
     "output_type": "execute_result"
    }
   ],
   "source": [
    "86400/(4*60)"
   ]
  },
  {
   "cell_type": "code",
   "execution_count": null,
   "metadata": {},
   "outputs": [],
   "source": [
    "st_simu.plot()"
   ]
  },
  {
   "cell_type": "code",
   "execution_count": null,
   "metadata": {},
   "outputs": [],
   "source": [
    "3600*24"
   ]
  },
  {
   "cell_type": "code",
   "execution_count": null,
   "metadata": {},
   "outputs": [],
   "source": [
    "2159999/86400"
   ]
  },
  {
   "cell_type": "code",
   "execution_count": null,
   "metadata": {},
   "outputs": [],
   "source": [
    "for i in range(0,(t_nosingal_start-t_singal_start), win_len):\n",
    "    print(i)"
   ]
  },
  {
   "cell_type": "code",
   "execution_count": null,
   "metadata": {},
   "outputs": [],
   "source": [
    "4*60"
   ]
  },
  {
   "cell_type": "code",
   "execution_count": null,
   "metadata": {},
   "outputs": [],
   "source": []
  }
 ],
 "metadata": {
  "kernelspec": {
   "display_name": "Python 3",
   "language": "python",
   "name": "python3"
  },
  "language_info": {
   "codemirror_mode": {
    "name": "ipython",
    "version": 3
   },
   "file_extension": ".py",
   "mimetype": "text/x-python",
   "name": "python",
   "nbconvert_exporter": "python",
   "pygments_lexer": "ipython3",
   "version": "3.6.4"
  }
 },
 "nbformat": 4,
 "nbformat_minor": 2
}
